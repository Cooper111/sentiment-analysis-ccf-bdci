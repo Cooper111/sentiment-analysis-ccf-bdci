{
  "nbformat": 4,
  "nbformat_minor": 0,
  "metadata": {
    "colab": {
      "name": "getEmbedding.ipynb",
      "version": "0.3.2",
      "provenance": [],
      "collapsed_sections": []
    },
    "kernelspec": {
      "name": "python3",
      "display_name": "Python 3"
    }
  },
  "cells": [
    {
      "metadata": {
        "id": "hmZDpK4gDfvJ",
        "colab_type": "text"
      },
      "cell_type": "markdown",
      "source": [
        "# Get Word Embedding\n",
        "\n",
        "We use [Chinese-Word-Vectors](https://github.com/Embedding/Chinese-Word-Vectors) for preliminary, and [Tencent AI Lab Embedding](https://ai.tencent.com/ailab/nlp/embedding.html) for semi-final.\n",
        "\n",
        "Here demonstrate the latter, including both word level and char level."
      ]
    },
    {
      "metadata": {
        "id": "1sFF8bTpjqVD",
        "colab_type": "code",
        "colab": {}
      },
      "cell_type": "code",
      "source": [
        "from google.colab import drive\n",
        "drive.mount('/gdrive')"
      ],
      "execution_count": 0,
      "outputs": []
    },
    {
      "metadata": {
        "id": "2p4eSNf3gwuG",
        "colab_type": "code",
        "colab": {}
      },
      "cell_type": "code",
      "source": [
        "!wget https://ai.tencent.com/ailab/nlp/data/Tencent_AILab_ChineseEmbedding.tar.gz"
      ],
      "execution_count": 0,
      "outputs": []
    },
    {
      "metadata": {
        "id": "ec69fLVghXOu",
        "colab_type": "code",
        "colab": {}
      },
      "cell_type": "code",
      "source": [
        "!tar -xzvf Tencent_AILab_ChineseEmbedding.tar.gz"
      ],
      "execution_count": 0,
      "outputs": []
    },
    {
      "metadata": {
        "id": "Rl_O50nOhZTO",
        "colab_type": "code",
        "colab": {}
      },
      "cell_type": "code",
      "source": [
        "!ls -lh"
      ],
      "execution_count": 0,
      "outputs": []
    },
    {
      "metadata": {
        "id": "IQYDw9jUhbzK",
        "colab_type": "code",
        "colab": {}
      },
      "cell_type": "code",
      "source": [
        "!head Tencent_AILab_ChineseEmbedding.txt"
      ],
      "execution_count": 0,
      "outputs": []
    },
    {
      "metadata": {
        "id": "QofeLo6nGint",
        "colab_type": "text"
      },
      "cell_type": "markdown",
      "source": [
        "## 2 Extract embeddings needed\n",
        "\n",
        "The whole embedding corpus is too large, making it impossible to put them all into memory.\n",
        "\n",
        "To save space and memory, we only extract words and chars that appear in the dataset.\n",
        "\n",
        "This method is for competitions only."
      ]
    },
    {
      "metadata": {
        "id": "4Y2CKd3i54gs",
        "colab_type": "code",
        "colab": {}
      },
      "cell_type": "code",
      "source": [
        "!pip install jieba tqdm > /dev/null"
      ],
      "execution_count": 0,
      "outputs": []
    },
    {
      "metadata": {
        "id": "ZE0EdS21iOA-",
        "colab_type": "code",
        "colab": {}
      },
      "cell_type": "code",
      "source": [
        "import numpy as np\n",
        "import pandas as pd\n",
        "import pickle\n",
        "import jieba\n",
        "from tqdm import tqdm\n",
        "\n",
        "jieba.setLogLevel(20)"
      ],
      "execution_count": 0,
      "outputs": []
    },
    {
      "metadata": {
        "id": "8zdJVPf11Edi",
        "colab_type": "code",
        "colab": {}
      },
      "cell_type": "code",
      "source": [
        "path = '/gdrive/My Drive/'\n",
        "contents = pd.read_csv(path + 'train.csv')['content'].tolist() \\\n",
        "           + pd.read_csv(path + 'test_public.csv')['content'].tolist()\n",
        "\n",
        "wordset = set()\n",
        "for content in contents:\n",
        "    wordset.update(list(jieba.lcut_for_search(content)) + list(content))"
      ],
      "execution_count": 0,
      "outputs": []
    },
    {
      "metadata": {
        "id": "td2O5-nv6O0o",
        "colab_type": "code",
        "colab": {}
      },
      "cell_type": "code",
      "source": [
        "len(wordset)"
      ],
      "execution_count": 0,
      "outputs": []
    },
    {
      "metadata": {
        "id": "_jjtmMnXiQfK",
        "colab_type": "code",
        "colab": {}
      },
      "cell_type": "code",
      "source": [
        "word_index, embedding_matrix = {}, []\n",
        "with open('Tencent_AILab_ChineseEmbedding.txt') as f:\n",
        "    next(f)\n",
        "    i = 0\n",
        "    for line in tqdm(f, total=8824330):\n",
        "        e = line[:-1].split(' ')\n",
        "        w = e[0]\n",
        "        if w in wordset:\n",
        "            word_index[w] = i\n",
        "            i += 1\n",
        "            embedding_matrix.append(np.array(e[1:], dtype=float))\n",
        "embedding_matrix = np.array(embedding_matrix)\n",
        "embeddings = [word_index, embedding_matrix]"
      ],
      "execution_count": 0,
      "outputs": []
    },
    {
      "metadata": {
        "id": "IkhRHYbT9gV9",
        "colab_type": "code",
        "colab": {}
      },
      "cell_type": "code",
      "source": [
        "len(word_index)"
      ],
      "execution_count": 0,
      "outputs": []
    },
    {
      "metadata": {
        "id": "9v_YS_Ub9EoM",
        "colab_type": "code",
        "colab": {}
      },
      "cell_type": "code",
      "source": [
        "embedding_matrix.shape"
      ],
      "execution_count": 0,
      "outputs": []
    },
    {
      "metadata": {
        "id": "0HSu1l8e1l_i",
        "colab_type": "code",
        "colab": {}
      },
      "cell_type": "code",
      "source": [
        "pickle.dump(embeddings, open('embeddings_.p', 'wb'))"
      ],
      "execution_count": 0,
      "outputs": []
    },
    {
      "metadata": {
        "id": "sPgLISHM1p_r",
        "colab_type": "code",
        "colab": {}
      },
      "cell_type": "code",
      "source": [
        "!ls -lh"
      ],
      "execution_count": 0,
      "outputs": []
    },
    {
      "metadata": {
        "id": "IEgv2VfhpIQB",
        "colab_type": "code",
        "colab": {}
      },
      "cell_type": "code",
      "source": [
        "!cp embeddings_.p /gdrive/My\\ Drive/"
      ],
      "execution_count": 0,
      "outputs": []
    }
  ]
}