{
  "nbformat": 4,
  "nbformat_minor": 0,
  "metadata": {
    "colab": {
      "name": "getEmbedding.ipynb",
      "version": "0.3.2",
      "provenance": [],
      "collapsed_sections": []
    },
    "kernelspec": {
      "name": "python3",
      "display_name": "Python 3"
    }
  },
  "cells": [
    {
      "metadata": {
        "id": "hmZDpK4gDfvJ",
        "colab_type": "text"
      },
      "cell_type": "markdown",
      "source": [
        "# Get Word Embedding\n",
        "\n",
        "We use [Chinese-Word-Vectors](https://github.com/Embedding/Chinese-Word-Vectors) for preliminary, and [Tencent AI Lab Embedding](https://ai.tencent.com/ailab/nlp/embedding.html) for the final.\n",
        "\n",
        "Here demonstrate the latter, including both word level and char level."
      ]
    },
    {
      "metadata": {
        "id": "Rzvf5mN0sKOa",
        "colab_type": "text"
      },
      "cell_type": "markdown",
      "source": [
        "## 1 Download & Decompress"
      ]
    },
    {
      "metadata": {
        "id": "1sFF8bTpjqVD",
        "colab_type": "code",
        "colab": {}
      },
      "cell_type": "code",
      "source": [
        "from google.colab import drive\n",
        "drive.mount('/gdrive')"
      ],
      "execution_count": 0,
      "outputs": []
    },
    {
      "metadata": {
        "id": "2p4eSNf3gwuG",
        "colab_type": "code",
        "outputId": "db779cce-b92c-47a9-fd2d-071dbabe1aa1",
        "colab": {
          "base_uri": "https://localhost:8080/",
          "height": 201
        }
      },
      "cell_type": "code",
      "source": [
        "!wget https://ai.tencent.com/ailab/nlp/data/Tencent_AILab_ChineseEmbedding.tar.gz"
      ],
      "execution_count": 0,
      "outputs": [
        {
          "output_type": "stream",
          "text": [
            "--2018-11-04 03:04:05--  https://ai.tencent.com/ailab/nlp/data/Tencent_AILab_ChineseEmbedding.tar.gz\n",
            "Resolving ai.tencent.com (ai.tencent.com)... 140.207.123.162\n",
            "Connecting to ai.tencent.com (ai.tencent.com)|140.207.123.162|:443... connected.\n",
            "HTTP request sent, awaiting response... 200 OK\n",
            "Length: 6778940358 (6.3G) [application/x-gzip]\n",
            "Saving to: ‘Tencent_AILab_ChineseEmbedding.tar.gz’\n",
            "\n",
            "Tencent_AILab_Chine 100%[===================>]   6.31G  8.47MB/s    in 14m 49s \n",
            "\n",
            "2018-11-04 03:18:56 (7.27 MB/s) - ‘Tencent_AILab_ChineseEmbedding.tar.gz’ saved [6778940358/6778940358]\n",
            "\n"
          ],
          "name": "stdout"
        }
      ]
    },
    {
      "metadata": {
        "id": "ec69fLVghXOu",
        "colab_type": "code",
        "outputId": "210f5356-d0ca-4e9f-b2cd-2c1410f6472c",
        "colab": {
          "base_uri": "https://localhost:8080/",
          "height": 50
        }
      },
      "cell_type": "code",
      "source": [
        "!tar -xzvf Tencent_AILab_ChineseEmbedding.tar.gz"
      ],
      "execution_count": 0,
      "outputs": [
        {
          "output_type": "stream",
          "text": [
            "Tencent_AILab_ChineseEmbedding.txt\n",
            "README.txt\n"
          ],
          "name": "stdout"
        }
      ]
    },
    {
      "metadata": {
        "id": "Rl_O50nOhZTO",
        "colab_type": "code",
        "outputId": "aa12f64e-9ef3-43a4-acce-50b9aeb857bb",
        "colab": {
          "base_uri": "https://localhost:8080/",
          "height": 100
        }
      },
      "cell_type": "code",
      "source": [
        "!ls -lh"
      ],
      "execution_count": 0,
      "outputs": [
        {
          "output_type": "stream",
          "text": [
            "total 22G\n",
            "-rw-r--r-- 1 root root 1.8K Oct 19 10:41 README.txt\n",
            "drwxr-xr-x 2 root root 4.0K Nov  1 16:42 sample_data\n",
            "-rw-r--r-- 1 root root 6.4G Oct 19 11:29 Tencent_AILab_ChineseEmbedding.tar.gz\n",
            "-rw-r--r-- 1 root root  16G Oct 19 10:50 Tencent_AILab_ChineseEmbedding.txt\n"
          ],
          "name": "stdout"
        }
      ]
    },
    {
      "metadata": {
        "id": "IQYDw9jUhbzK",
        "colab_type": "code",
        "colab": {}
      },
      "cell_type": "code",
      "source": [
        "!head Tencent_AILab_ChineseEmbedding.txt"
      ],
      "execution_count": 0,
      "outputs": []
    },
    {
      "metadata": {
        "id": "QofeLo6nGint",
        "colab_type": "text"
      },
      "cell_type": "markdown",
      "source": [
        "## 2 Extract embeddings needed\n",
        "\n",
        "The whole embedding corpus is too large, making it impossible to put them all into memory.\n",
        "\n",
        "To save space and memory, we only extract words and chars that appear in the dataset.\n",
        "\n",
        "This method is for competitions only."
      ]
    },
    {
      "metadata": {
        "id": "4Y2CKd3i54gs",
        "colab_type": "code",
        "colab": {}
      },
      "cell_type": "code",
      "source": [
        "!pip install jieba tqdm > /dev/null"
      ],
      "execution_count": 0,
      "outputs": []
    },
    {
      "metadata": {
        "id": "ZE0EdS21iOA-",
        "colab_type": "code",
        "colab": {}
      },
      "cell_type": "code",
      "source": [
        "import numpy as np\n",
        "import pandas as pd\n",
        "import pickle\n",
        "import jieba\n",
        "from tqdm import tqdm\n",
        "\n",
        "jieba.setLogLevel(20)"
      ],
      "execution_count": 0,
      "outputs": []
    },
    {
      "metadata": {
        "id": "8zdJVPf11Edi",
        "colab_type": "code",
        "colab": {}
      },
      "cell_type": "code",
      "source": [
        "path = '/gdrive/My Drive/'\n",
        "contents = pd.read_csv(path + 'train.csv')['content'].tolist() \\\n",
        "           + pd.read_csv(path + 'test_public.csv')['content'].tolist()\n",
        "\n",
        "wordset = set()\n",
        "for content in contents:\n",
        "    wordset.update(list(jieba.lcut_for_search(content)) + list(content))"
      ],
      "execution_count": 0,
      "outputs": []
    },
    {
      "metadata": {
        "id": "td2O5-nv6O0o",
        "colab_type": "code",
        "outputId": "80d48bf3-5a05-48c9-eb3a-83a19fe792f3",
        "colab": {
          "base_uri": "https://localhost:8080/",
          "height": 33
        }
      },
      "cell_type": "code",
      "source": [
        "len(wordset)"
      ],
      "execution_count": 0,
      "outputs": [
        {
          "output_type": "execute_result",
          "data": {
            "text/plain": [
              "25095"
            ]
          },
          "metadata": {
            "tags": []
          },
          "execution_count": 13
        }
      ]
    },
    {
      "metadata": {
        "id": "_jjtmMnXiQfK",
        "colab_type": "code",
        "outputId": "8f5d9c24-bae7-40c2-f2df-169d30cfb01c",
        "colab": {
          "base_uri": "https://localhost:8080/",
          "height": 33
        }
      },
      "cell_type": "code",
      "source": [
        "word_index, embedding_matrix = {}, []\n",
        "with open('Tencent_AILab_ChineseEmbedding.txt') as f:\n",
        "    next(f)\n",
        "    i = 0\n",
        "    for line in tqdm(f, total=8824330):\n",
        "        e = line[:-1].split(' ')\n",
        "        w = e[0]\n",
        "        if w in wordset:\n",
        "            word_index[w] = i\n",
        "            i += 1\n",
        "            embedding_matrix.append(np.array(e[1:], dtype=float))\n",
        "embedding_matrix = np.array(embedding_matrix)\n",
        "embeddings = [word_index, embedding_matrix]"
      ],
      "execution_count": 0,
      "outputs": [
        {
          "output_type": "stream",
          "text": [
            "100%|██████████| 8824330/8824330 [12:19<00:00, 11933.98it/s]\n"
          ],
          "name": "stderr"
        }
      ]
    },
    {
      "metadata": {
        "id": "IkhRHYbT9gV9",
        "colab_type": "code",
        "outputId": "a250bce8-5553-4871-c7b8-8fd74f17a776",
        "colab": {
          "base_uri": "https://localhost:8080/",
          "height": 33
        }
      },
      "cell_type": "code",
      "source": [
        "len(word_index)"
      ],
      "execution_count": 0,
      "outputs": [
        {
          "output_type": "execute_result",
          "data": {
            "text/plain": [
              "22815"
            ]
          },
          "metadata": {
            "tags": []
          },
          "execution_count": 15
        }
      ]
    },
    {
      "metadata": {
        "id": "9v_YS_Ub9EoM",
        "colab_type": "code",
        "outputId": "7b36c01d-b95e-4e22-d918-e8ddbf95c669",
        "colab": {
          "base_uri": "https://localhost:8080/",
          "height": 33
        }
      },
      "cell_type": "code",
      "source": [
        "embedding_matrix.shape"
      ],
      "execution_count": 0,
      "outputs": [
        {
          "output_type": "execute_result",
          "data": {
            "text/plain": [
              "(22815, 200)"
            ]
          },
          "metadata": {
            "tags": []
          },
          "execution_count": 16
        }
      ]
    },
    {
      "metadata": {
        "id": "0HSu1l8e1l_i",
        "colab_type": "code",
        "colab": {}
      },
      "cell_type": "code",
      "source": [
        "pickle.dump(embeddings, open('embeddings_.p', 'wb'))"
      ],
      "execution_count": 0,
      "outputs": []
    },
    {
      "metadata": {
        "id": "sPgLISHM1p_r",
        "colab_type": "code",
        "outputId": "e448279e-08da-496b-ec6a-4d3361cca63a",
        "colab": {
          "base_uri": "https://localhost:8080/",
          "height": 117
        }
      },
      "cell_type": "code",
      "source": [
        "!ls -lh"
      ],
      "execution_count": 0,
      "outputs": [
        {
          "output_type": "stream",
          "text": [
            "total 22G\n",
            "-rw-r--r-- 1 root root  36M Nov  4 03:53 embeddings_.p\n",
            "-rw-r--r-- 1 root root 1.8K Oct 19 10:41 README.txt\n",
            "drwxr-xr-x 2 root root 4.0K Nov  1 16:42 sample_data\n",
            "-rw-r--r-- 1 root root 6.4G Oct 19 11:29 Tencent_AILab_ChineseEmbedding.tar.gz\n",
            "-rw-r--r-- 1 root root  16G Oct 19 10:50 Tencent_AILab_ChineseEmbedding.txt\n"
          ],
          "name": "stdout"
        }
      ]
    },
    {
      "metadata": {
        "id": "IEgv2VfhpIQB",
        "colab_type": "code",
        "colab": {}
      },
      "cell_type": "code",
      "source": [
        "!cp embeddings_.p /gdrive/My\\ Drive/"
      ],
      "execution_count": 0,
      "outputs": []
    }
  ]
}